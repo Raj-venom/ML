{
 "cells": [
  {
   "cell_type": "code",
   "execution_count": 17,
   "id": "42b5083f-cbb4-4e93-8173-891041ffc158",
   "metadata": {},
   "outputs": [],
   "source": [
    "import pandas as pd"
   ]
  },
  {
   "cell_type": "code",
   "execution_count": 18,
   "id": "3075b4db-3f31-4381-8301-ba5246385207",
   "metadata": {},
   "outputs": [],
   "source": [
    "#Reading local json file"
   ]
  },
  {
   "cell_type": "code",
   "execution_count": 19,
   "id": "eb3714f9-e52d-4f15-b82a-0111666ee817",
   "metadata": {},
   "outputs": [],
   "source": [
    "df = pd.read_json('iris.json')"
   ]
  },
  {
   "cell_type": "code",
   "execution_count": 20,
   "id": "4515df97-3da8-4595-8a55-58bfda5c43f8",
   "metadata": {},
   "outputs": [
    {
     "data": {
      "text/plain": [
       "sepalLength    0\n",
       "sepalWidth     0\n",
       "petalLength    0\n",
       "petalWidth     0\n",
       "species        0\n",
       "dtype: int64"
      ]
     },
     "execution_count": 20,
     "metadata": {},
     "output_type": "execute_result"
    }
   ],
   "source": [
    "df.isnull().sum()"
   ]
  },
  {
   "cell_type": "code",
   "execution_count": 21,
   "id": "aad1544c-2324-4c0f-9a87-013b92a039cb",
   "metadata": {},
   "outputs": [
    {
     "data": {
      "text/plain": [
       "1"
      ]
     },
     "execution_count": 21,
     "metadata": {},
     "output_type": "execute_result"
    }
   ],
   "source": [
    "df.duplicated().sum()"
   ]
  },
  {
   "cell_type": "code",
   "execution_count": 22,
   "id": "6c994e4c-1650-48fa-b3f5-6a7f73e4d0c4",
   "metadata": {},
   "outputs": [],
   "source": [
    "df = df.drop_duplicates()"
   ]
  },
  {
   "cell_type": "code",
   "execution_count": 23,
   "id": "766e5cfb-4ceb-4690-8a2e-23ef676ba44a",
   "metadata": {},
   "outputs": [
    {
     "data": {
      "text/plain": [
       "0"
      ]
     },
     "execution_count": 23,
     "metadata": {},
     "output_type": "execute_result"
    }
   ],
   "source": [
    "df.duplicated().sum()"
   ]
  },
  {
   "cell_type": "code",
   "execution_count": 24,
   "id": "0abed082-c3d2-4b3c-81c4-340a3eb808ef",
   "metadata": {},
   "outputs": [
    {
     "data": {
      "text/html": [
       "<div>\n",
       "<style scoped>\n",
       "    .dataframe tbody tr th:only-of-type {\n",
       "        vertical-align: middle;\n",
       "    }\n",
       "\n",
       "    .dataframe tbody tr th {\n",
       "        vertical-align: top;\n",
       "    }\n",
       "\n",
       "    .dataframe thead th {\n",
       "        text-align: right;\n",
       "    }\n",
       "</style>\n",
       "<table border=\"1\" class=\"dataframe\">\n",
       "  <thead>\n",
       "    <tr style=\"text-align: right;\">\n",
       "      <th></th>\n",
       "      <th>sepalLength</th>\n",
       "      <th>sepalWidth</th>\n",
       "      <th>petalLength</th>\n",
       "      <th>petalWidth</th>\n",
       "      <th>species</th>\n",
       "    </tr>\n",
       "  </thead>\n",
       "  <tbody>\n",
       "    <tr>\n",
       "      <th>0</th>\n",
       "      <td>5.1</td>\n",
       "      <td>3.5</td>\n",
       "      <td>1.4</td>\n",
       "      <td>0.2</td>\n",
       "      <td>setosa</td>\n",
       "    </tr>\n",
       "    <tr>\n",
       "      <th>1</th>\n",
       "      <td>4.9</td>\n",
       "      <td>3.0</td>\n",
       "      <td>1.4</td>\n",
       "      <td>0.2</td>\n",
       "      <td>setosa</td>\n",
       "    </tr>\n",
       "    <tr>\n",
       "      <th>2</th>\n",
       "      <td>4.7</td>\n",
       "      <td>3.2</td>\n",
       "      <td>1.3</td>\n",
       "      <td>0.2</td>\n",
       "      <td>setosa</td>\n",
       "    </tr>\n",
       "    <tr>\n",
       "      <th>3</th>\n",
       "      <td>4.6</td>\n",
       "      <td>3.1</td>\n",
       "      <td>1.5</td>\n",
       "      <td>0.2</td>\n",
       "      <td>setosa</td>\n",
       "    </tr>\n",
       "    <tr>\n",
       "      <th>4</th>\n",
       "      <td>5.0</td>\n",
       "      <td>3.6</td>\n",
       "      <td>1.4</td>\n",
       "      <td>0.2</td>\n",
       "      <td>setosa</td>\n",
       "    </tr>\n",
       "  </tbody>\n",
       "</table>\n",
       "</div>"
      ],
      "text/plain": [
       "   sepalLength  sepalWidth  petalLength  petalWidth species\n",
       "0          5.1         3.5          1.4         0.2  setosa\n",
       "1          4.9         3.0          1.4         0.2  setosa\n",
       "2          4.7         3.2          1.3         0.2  setosa\n",
       "3          4.6         3.1          1.5         0.2  setosa\n",
       "4          5.0         3.6          1.4         0.2  setosa"
      ]
     },
     "execution_count": 24,
     "metadata": {},
     "output_type": "execute_result"
    }
   ],
   "source": [
    "df.head()"
   ]
  },
  {
   "cell_type": "code",
   "execution_count": 25,
   "id": "6d5e3aab-c877-42cb-aeb5-f0d443df1aba",
   "metadata": {},
   "outputs": [],
   "source": [
    "# Reading json data by fetching api"
   ]
  },
  {
   "cell_type": "code",
   "execution_count": 26,
   "id": "b6e21eb3-efa0-42cd-a1fc-1c67fa2595d2",
   "metadata": {},
   "outputs": [],
   "source": [
    "df = pd.read_json('https://api.exchangerate-api.com/v4/latest/usd')"
   ]
  },
  {
   "cell_type": "code",
   "execution_count": 27,
   "id": "6763f605-c7ba-439f-ba6d-0956a90f12f0",
   "metadata": {},
   "outputs": [
    {
     "data": {
      "text/html": [
       "<div>\n",
       "<style scoped>\n",
       "    .dataframe tbody tr th:only-of-type {\n",
       "        vertical-align: middle;\n",
       "    }\n",
       "\n",
       "    .dataframe tbody tr th {\n",
       "        vertical-align: top;\n",
       "    }\n",
       "\n",
       "    .dataframe thead th {\n",
       "        text-align: right;\n",
       "    }\n",
       "</style>\n",
       "<table border=\"1\" class=\"dataframe\">\n",
       "  <thead>\n",
       "    <tr style=\"text-align: right;\">\n",
       "      <th></th>\n",
       "      <th>provider</th>\n",
       "      <th>WARNING_UPGRADE_TO_V6</th>\n",
       "      <th>terms</th>\n",
       "      <th>base</th>\n",
       "      <th>date</th>\n",
       "      <th>time_last_updated</th>\n",
       "      <th>rates</th>\n",
       "    </tr>\n",
       "  </thead>\n",
       "  <tbody>\n",
       "    <tr>\n",
       "      <th>USD</th>\n",
       "      <td>https://www.exchangerate-api.com</td>\n",
       "      <td>https://www.exchangerate-api.com/docs/free</td>\n",
       "      <td>https://www.exchangerate-api.com/terms</td>\n",
       "      <td>USD</td>\n",
       "      <td>2024-08-29</td>\n",
       "      <td>1724889601</td>\n",
       "      <td>1.00</td>\n",
       "    </tr>\n",
       "    <tr>\n",
       "      <th>AED</th>\n",
       "      <td>https://www.exchangerate-api.com</td>\n",
       "      <td>https://www.exchangerate-api.com/docs/free</td>\n",
       "      <td>https://www.exchangerate-api.com/terms</td>\n",
       "      <td>USD</td>\n",
       "      <td>2024-08-29</td>\n",
       "      <td>1724889601</td>\n",
       "      <td>3.67</td>\n",
       "    </tr>\n",
       "    <tr>\n",
       "      <th>AFN</th>\n",
       "      <td>https://www.exchangerate-api.com</td>\n",
       "      <td>https://www.exchangerate-api.com/docs/free</td>\n",
       "      <td>https://www.exchangerate-api.com/terms</td>\n",
       "      <td>USD</td>\n",
       "      <td>2024-08-29</td>\n",
       "      <td>1724889601</td>\n",
       "      <td>70.71</td>\n",
       "    </tr>\n",
       "    <tr>\n",
       "      <th>ALL</th>\n",
       "      <td>https://www.exchangerate-api.com</td>\n",
       "      <td>https://www.exchangerate-api.com/docs/free</td>\n",
       "      <td>https://www.exchangerate-api.com/terms</td>\n",
       "      <td>USD</td>\n",
       "      <td>2024-08-29</td>\n",
       "      <td>1724889601</td>\n",
       "      <td>89.80</td>\n",
       "    </tr>\n",
       "    <tr>\n",
       "      <th>AMD</th>\n",
       "      <td>https://www.exchangerate-api.com</td>\n",
       "      <td>https://www.exchangerate-api.com/docs/free</td>\n",
       "      <td>https://www.exchangerate-api.com/terms</td>\n",
       "      <td>USD</td>\n",
       "      <td>2024-08-29</td>\n",
       "      <td>1724889601</td>\n",
       "      <td>387.86</td>\n",
       "    </tr>\n",
       "  </tbody>\n",
       "</table>\n",
       "</div>"
      ],
      "text/plain": [
       "                             provider  \\\n",
       "USD  https://www.exchangerate-api.com   \n",
       "AED  https://www.exchangerate-api.com   \n",
       "AFN  https://www.exchangerate-api.com   \n",
       "ALL  https://www.exchangerate-api.com   \n",
       "AMD  https://www.exchangerate-api.com   \n",
       "\n",
       "                          WARNING_UPGRADE_TO_V6  \\\n",
       "USD  https://www.exchangerate-api.com/docs/free   \n",
       "AED  https://www.exchangerate-api.com/docs/free   \n",
       "AFN  https://www.exchangerate-api.com/docs/free   \n",
       "ALL  https://www.exchangerate-api.com/docs/free   \n",
       "AMD  https://www.exchangerate-api.com/docs/free   \n",
       "\n",
       "                                      terms base       date  \\\n",
       "USD  https://www.exchangerate-api.com/terms  USD 2024-08-29   \n",
       "AED  https://www.exchangerate-api.com/terms  USD 2024-08-29   \n",
       "AFN  https://www.exchangerate-api.com/terms  USD 2024-08-29   \n",
       "ALL  https://www.exchangerate-api.com/terms  USD 2024-08-29   \n",
       "AMD  https://www.exchangerate-api.com/terms  USD 2024-08-29   \n",
       "\n",
       "     time_last_updated   rates  \n",
       "USD         1724889601    1.00  \n",
       "AED         1724889601    3.67  \n",
       "AFN         1724889601   70.71  \n",
       "ALL         1724889601   89.80  \n",
       "AMD         1724889601  387.86  "
      ]
     },
     "execution_count": 27,
     "metadata": {},
     "output_type": "execute_result"
    }
   ],
   "source": [
    "df.head()"
   ]
  },
  {
   "cell_type": "code",
   "execution_count": 28,
   "id": "064722fe-bfd6-49e4-b51c-e484b77648c8",
   "metadata": {},
   "outputs": [],
   "source": [
    "df.drop(columns=['provider', 'terms', 'WARNING_UPGRADE_TO_V6'],inplace=True)"
   ]
  },
  {
   "cell_type": "code",
   "execution_count": 29,
   "id": "de32c527-84da-49a6-a926-c8c7763126f0",
   "metadata": {},
   "outputs": [
    {
     "data": {
      "text/html": [
       "<div>\n",
       "<style scoped>\n",
       "    .dataframe tbody tr th:only-of-type {\n",
       "        vertical-align: middle;\n",
       "    }\n",
       "\n",
       "    .dataframe tbody tr th {\n",
       "        vertical-align: top;\n",
       "    }\n",
       "\n",
       "    .dataframe thead th {\n",
       "        text-align: right;\n",
       "    }\n",
       "</style>\n",
       "<table border=\"1\" class=\"dataframe\">\n",
       "  <thead>\n",
       "    <tr style=\"text-align: right;\">\n",
       "      <th></th>\n",
       "      <th>base</th>\n",
       "      <th>date</th>\n",
       "      <th>time_last_updated</th>\n",
       "      <th>rates</th>\n",
       "    </tr>\n",
       "  </thead>\n",
       "  <tbody>\n",
       "    <tr>\n",
       "      <th>USD</th>\n",
       "      <td>USD</td>\n",
       "      <td>2024-08-29</td>\n",
       "      <td>1724889601</td>\n",
       "      <td>1.00</td>\n",
       "    </tr>\n",
       "    <tr>\n",
       "      <th>AED</th>\n",
       "      <td>USD</td>\n",
       "      <td>2024-08-29</td>\n",
       "      <td>1724889601</td>\n",
       "      <td>3.67</td>\n",
       "    </tr>\n",
       "    <tr>\n",
       "      <th>AFN</th>\n",
       "      <td>USD</td>\n",
       "      <td>2024-08-29</td>\n",
       "      <td>1724889601</td>\n",
       "      <td>70.71</td>\n",
       "    </tr>\n",
       "    <tr>\n",
       "      <th>ALL</th>\n",
       "      <td>USD</td>\n",
       "      <td>2024-08-29</td>\n",
       "      <td>1724889601</td>\n",
       "      <td>89.80</td>\n",
       "    </tr>\n",
       "    <tr>\n",
       "      <th>AMD</th>\n",
       "      <td>USD</td>\n",
       "      <td>2024-08-29</td>\n",
       "      <td>1724889601</td>\n",
       "      <td>387.86</td>\n",
       "    </tr>\n",
       "    <tr>\n",
       "      <th>...</th>\n",
       "      <td>...</td>\n",
       "      <td>...</td>\n",
       "      <td>...</td>\n",
       "      <td>...</td>\n",
       "    </tr>\n",
       "    <tr>\n",
       "      <th>XPF</th>\n",
       "      <td>USD</td>\n",
       "      <td>2024-08-29</td>\n",
       "      <td>1724889601</td>\n",
       "      <td>107.28</td>\n",
       "    </tr>\n",
       "    <tr>\n",
       "      <th>YER</th>\n",
       "      <td>USD</td>\n",
       "      <td>2024-08-29</td>\n",
       "      <td>1724889601</td>\n",
       "      <td>250.17</td>\n",
       "    </tr>\n",
       "    <tr>\n",
       "      <th>ZAR</th>\n",
       "      <td>USD</td>\n",
       "      <td>2024-08-29</td>\n",
       "      <td>1724889601</td>\n",
       "      <td>17.82</td>\n",
       "    </tr>\n",
       "    <tr>\n",
       "      <th>ZMW</th>\n",
       "      <td>USD</td>\n",
       "      <td>2024-08-29</td>\n",
       "      <td>1724889601</td>\n",
       "      <td>26.02</td>\n",
       "    </tr>\n",
       "    <tr>\n",
       "      <th>ZWL</th>\n",
       "      <td>USD</td>\n",
       "      <td>2024-08-29</td>\n",
       "      <td>1724889601</td>\n",
       "      <td>13.82</td>\n",
       "    </tr>\n",
       "  </tbody>\n",
       "</table>\n",
       "<p>162 rows × 4 columns</p>\n",
       "</div>"
      ],
      "text/plain": [
       "    base       date  time_last_updated   rates\n",
       "USD  USD 2024-08-29         1724889601    1.00\n",
       "AED  USD 2024-08-29         1724889601    3.67\n",
       "AFN  USD 2024-08-29         1724889601   70.71\n",
       "ALL  USD 2024-08-29         1724889601   89.80\n",
       "AMD  USD 2024-08-29         1724889601  387.86\n",
       "..   ...        ...                ...     ...\n",
       "XPF  USD 2024-08-29         1724889601  107.28\n",
       "YER  USD 2024-08-29         1724889601  250.17\n",
       "ZAR  USD 2024-08-29         1724889601   17.82\n",
       "ZMW  USD 2024-08-29         1724889601   26.02\n",
       "ZWL  USD 2024-08-29         1724889601   13.82\n",
       "\n",
       "[162 rows x 4 columns]"
      ]
     },
     "execution_count": 29,
     "metadata": {},
     "output_type": "execute_result"
    }
   ],
   "source": [
    "df"
   ]
  },
  {
   "cell_type": "code",
   "execution_count": 30,
   "id": "f9721383-bd76-43e9-b36c-0eb53b65e31a",
   "metadata": {},
   "outputs": [],
   "source": [
    "#Dealing with Sql "
   ]
  },
  {
   "cell_type": "code",
   "execution_count": 48,
   "id": "9c43568f-44af-4c28-bfab-7b2b74afcf4a",
   "metadata": {},
   "outputs": [
    {
     "name": "stdout",
     "output_type": "stream",
     "text": [
      "Collecting mysql.connector\n",
      "  Downloading mysql-connector-2.2.9.tar.gz (11.9 MB)\n",
      "     ---------------------------------------- 0.0/11.9 MB ? eta -:--:--\n",
      "     --------------------------------------- 0.0/11.9 MB 660.6 kB/s eta 0:00:18\n",
      "     --------------------------------------- 0.1/11.9 MB 787.7 kB/s eta 0:00:15\n",
      "      --------------------------------------- 0.2/11.9 MB 1.6 MB/s eta 0:00:08\n",
      "     - -------------------------------------- 0.5/11.9 MB 2.8 MB/s eta 0:00:05\n",
      "     --- ------------------------------------ 1.0/11.9 MB 4.6 MB/s eta 0:00:03\n",
      "     ------ --------------------------------- 2.0/11.9 MB 7.4 MB/s eta 0:00:02\n",
      "     ---------- ----------------------------- 3.1/11.9 MB 9.8 MB/s eta 0:00:01\n",
      "     --------------- ------------------------ 4.5/11.9 MB 12.5 MB/s eta 0:00:01\n",
      "     ------------------- -------------------- 5.7/11.9 MB 14.1 MB/s eta 0:00:01\n",
      "     ----------------------- ---------------- 7.0/11.9 MB 15.3 MB/s eta 0:00:01\n",
      "     ------------------------ --------------- 7.2/11.9 MB 14.3 MB/s eta 0:00:01\n",
      "     ------------------------- -------------- 7.6/11.9 MB 14.4 MB/s eta 0:00:01\n",
      "     -------------------------- ------------- 7.9/11.9 MB 13.7 MB/s eta 0:00:01\n",
      "     ----------------------------- ---------- 8.6/11.9 MB 13.5 MB/s eta 0:00:01\n",
      "     --------------------------------- ----- 10.0/11.9 MB 14.6 MB/s eta 0:00:01\n",
      "     ------------------------------------ -- 11.2/11.9 MB 19.8 MB/s eta 0:00:01\n",
      "     --------------------------------------  11.8/11.9 MB 20.5 MB/s eta 0:00:01\n",
      "     --------------------------------------- 11.9/11.9 MB 19.3 MB/s eta 0:00:00\n",
      "  Preparing metadata (setup.py): started\n",
      "  Preparing metadata (setup.py): finished with status 'done'\n",
      "Building wheels for collected packages: mysql.connector\n",
      "  Building wheel for mysql.connector (setup.py): started\n",
      "  Building wheel for mysql.connector (setup.py): finished with status 'done'\n",
      "  Created wheel for mysql.connector: filename=mysql_connector-2.2.9-cp312-cp312-win_amd64.whl size=247958 sha256=ac6b71258cf33dff8c057b5f8b8a668fac475a7145c1a788e065513cb70ac31d\n",
      "  Stored in directory: c:\\users\\biki kumar\\appdata\\local\\pip\\cache\\wheels\\03\\17\\fa\\d7604c72dd3dd6d3eb3d249abf36cc532c9a9b4354b8f1bc4f\n",
      "Successfully built mysql.connector\n",
      "Installing collected packages: mysql.connector\n",
      "Successfully installed mysql.connector-2.2.9\n"
     ]
    }
   ],
   "source": [
    "!pip install mysql.connector"
   ]
  },
  {
   "cell_type": "code",
   "execution_count": 50,
   "id": "9f7d02de-b164-431b-bff1-7641db7452b9",
   "metadata": {},
   "outputs": [],
   "source": [
    "import mysql.connector\n",
    "conn = mysql.connector.connect(host='localhost',user='root',password='',database='world')"
   ]
  },
  {
   "cell_type": "code",
   "execution_count": 84,
   "id": "a45e5213-c423-410c-b105-88e07400a699",
   "metadata": {},
   "outputs": [
    {
     "name": "stderr",
     "output_type": "stream",
     "text": [
      "C:\\Users\\biki kumar\\AppData\\Local\\Temp\\ipykernel_5408\\2050220033.py:1: UserWarning: pandas only supports SQLAlchemy connectable (engine/connection) or database string URI or sqlite3 DBAPI2 connection. Other DBAPI2 objects are not tested. Please consider using SQLAlchemy.\n",
      "  newdf = pd.read_sql_query(\"SELECT * FROM countrylanguage where Language='Dutch'\",conn)\n"
     ]
    }
   ],
   "source": [
    "newdf = pd.read_sql_query(\"SELECT * FROM countrylanguage where Language='Dutch'\",conn)"
   ]
  },
  {
   "cell_type": "code",
   "execution_count": 86,
   "id": "85254247-eb4b-4a8b-8acf-0355a50e8980",
   "metadata": {},
   "outputs": [
    {
     "data": {
      "text/html": [
       "<div>\n",
       "<style scoped>\n",
       "    .dataframe tbody tr th:only-of-type {\n",
       "        vertical-align: middle;\n",
       "    }\n",
       "\n",
       "    .dataframe tbody tr th {\n",
       "        vertical-align: top;\n",
       "    }\n",
       "\n",
       "    .dataframe thead th {\n",
       "        text-align: right;\n",
       "    }\n",
       "</style>\n",
       "<table border=\"1\" class=\"dataframe\">\n",
       "  <thead>\n",
       "    <tr style=\"text-align: right;\">\n",
       "      <th></th>\n",
       "      <th>CountryCode</th>\n",
       "      <th>Language</th>\n",
       "      <th>IsOfficial</th>\n",
       "      <th>Percentage</th>\n",
       "    </tr>\n",
       "  </thead>\n",
       "  <tbody>\n",
       "    <tr>\n",
       "      <th>0</th>\n",
       "      <td>ABW</td>\n",
       "      <td>Dutch</td>\n",
       "      <td>T</td>\n",
       "      <td>5.3</td>\n",
       "    </tr>\n",
       "    <tr>\n",
       "      <th>1</th>\n",
       "      <td>ANT</td>\n",
       "      <td>Dutch</td>\n",
       "      <td>T</td>\n",
       "      <td>0.0</td>\n",
       "    </tr>\n",
       "    <tr>\n",
       "      <th>2</th>\n",
       "      <td>BEL</td>\n",
       "      <td>Dutch</td>\n",
       "      <td>T</td>\n",
       "      <td>59.2</td>\n",
       "    </tr>\n",
       "    <tr>\n",
       "      <th>3</th>\n",
       "      <td>CAN</td>\n",
       "      <td>Dutch</td>\n",
       "      <td>F</td>\n",
       "      <td>0.5</td>\n",
       "    </tr>\n",
       "    <tr>\n",
       "      <th>4</th>\n",
       "      <td>NLD</td>\n",
       "      <td>Dutch</td>\n",
       "      <td>T</td>\n",
       "      <td>95.6</td>\n",
       "    </tr>\n",
       "  </tbody>\n",
       "</table>\n",
       "</div>"
      ],
      "text/plain": [
       "  CountryCode Language IsOfficial  Percentage\n",
       "0         ABW    Dutch          T         5.3\n",
       "1         ANT    Dutch          T         0.0\n",
       "2         BEL    Dutch          T        59.2\n",
       "3         CAN    Dutch          F         0.5\n",
       "4         NLD    Dutch          T        95.6"
      ]
     },
     "execution_count": 86,
     "metadata": {},
     "output_type": "execute_result"
    }
   ],
   "source": [
    "newdf"
   ]
  },
  {
   "cell_type": "code",
   "execution_count": 90,
   "id": "076f67bc-3f7d-483d-b75d-39f634c5b62d",
   "metadata": {},
   "outputs": [
    {
     "data": {
      "text/plain": [
       "CountryCode  Language  IsOfficial  Percentage\n",
       "ABW          Dutch     T           5.3           1\n",
       "ANT          Dutch     T           0.0           1\n",
       "BEL          Dutch     T           59.2          1\n",
       "CAN          Dutch     F           0.5           1\n",
       "NLD          Dutch     T           95.6          1\n",
       "Name: count, dtype: int64"
      ]
     },
     "execution_count": 90,
     "metadata": {},
     "output_type": "execute_result"
    }
   ],
   "source": [
    "newdf.value_counts()"
   ]
  },
  {
   "cell_type": "code",
   "execution_count": null,
   "id": "5b0f3da1-9de7-4d08-bb50-3ceead9d849d",
   "metadata": {},
   "outputs": [],
   "source": []
  }
 ],
 "metadata": {
  "kernelspec": {
   "display_name": "Python 3 (ipykernel)",
   "language": "python",
   "name": "python3"
  },
  "language_info": {
   "codemirror_mode": {
    "name": "ipython",
    "version": 3
   },
   "file_extension": ".py",
   "mimetype": "text/x-python",
   "name": "python",
   "nbconvert_exporter": "python",
   "pygments_lexer": "ipython3",
   "version": "3.12.4"
  }
 },
 "nbformat": 4,
 "nbformat_minor": 5
}
